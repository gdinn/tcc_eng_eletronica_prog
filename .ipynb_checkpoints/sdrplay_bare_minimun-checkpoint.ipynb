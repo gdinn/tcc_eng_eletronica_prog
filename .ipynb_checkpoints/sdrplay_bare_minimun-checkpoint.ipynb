{
 "cells": [
  {
   "cell_type": "code",
   "execution_count": 1,
   "metadata": {},
   "outputs": [
    {
     "name": "stdout",
     "output_type": "stream",
     "text": [
      "{driver=sdrplay, label=SDRplay Dev0 RSP1 B0000P0001}\n",
      "('RX',)\n",
      "('IFGR', 'RFGR')\n",
      "10000, 2e+09\n",
      "1024\n",
      "32\n",
      "0\n",
      "1024\n",
      "32\n",
      "0\n",
      "1024\n",
      "32\n",
      "0\n",
      "1024\n",
      "32\n",
      "0\n",
      "1024\n",
      "32\n",
      "0\n",
      "1024\n",
      "32\n",
      "0\n",
      "1024\n",
      "32\n",
      "0\n",
      "1024\n",
      "32\n",
      "0\n",
      "1024\n",
      "32\n",
      "0\n",
      "1024\n",
      "32\n",
      "0\n",
      "ret=1024, flags=32, timeNs=0\n",
      "[-0.00030518-6.1035156e-05j  0.00064087+1.0070801e-03j\n",
      "  0.00015259+2.4414062e-04j ...  0.00027466-1.8310547e-04j\n",
      "  0.00027466-9.4604492e-04j -0.00085449-5.1879883e-04j]\n"
     ]
    }
   ],
   "source": [
    "import SoapySDR\n",
    "from SoapySDR import * #SOAPY_SDR_ constants\n",
    "import numpy #use numpy for buffers\n",
    "\n",
    "#enumerate devices\n",
    "results = SoapySDR.Device.enumerate()\n",
    "for result in results: print(result)\n",
    "\n",
    "#create device instance\n",
    "#args can be user defined or from the enumeration result\n",
    "args = dict(driver=\"sdrplay\")\n",
    "sdr = SoapySDR.Device(args)\n",
    "\n",
    "#query device info\n",
    "print(sdr.listAntennas(SOAPY_SDR_RX, 0))\n",
    "print(sdr.listGains(SOAPY_SDR_RX, 0))\n",
    "freqs = sdr.getFrequencyRange(SOAPY_SDR_RX, 0)\n",
    "for freqRange in freqs: \n",
    "    print(freqRange)\n",
    "\n",
    "#apply settings\n",
    "sdr.setSampleRate(SOAPY_SDR_RX, 0, 1e6)\n",
    "sdr.setFrequency(SOAPY_SDR_RX, 0, 912.3e6)\n",
    "\n",
    "#setup a stream (complex floats)\n",
    "rxStream = sdr.setupStream(SOAPY_SDR_RX, SOAPY_SDR_CF32)\n",
    "sdr.activateStream(rxStream) #start streaming\n",
    "\n",
    "#create a re-usable buffer for rx samples\n",
    "buff = numpy.array([0]*1024, numpy.complex64)\n",
    "\n",
    "#receive some samples\n",
    "for i in range(10):\n",
    "    sr = sdr.readStream(rxStream, [buff], len(buff))\n",
    "    print(sr.ret) #num samples or error code\n",
    "    print(sr.flags) #flags set by receive operation\n",
    "    print(sr.timeNs) #timestamp for receive buffer\n",
    "\n",
    "print(sr)\n",
    "print(buff)\n",
    "#shutdown the stream\n",
    "sdr.deactivateStream(rxStream) #stop streaming\n",
    "sdr.closeStream(rxStream)"
   ]
  },
  {
   "cell_type": "code",
   "execution_count": 1,
   "metadata": {},
   "outputs": [],
   "source": [
    "import SoapySDR\n",
    "from SoapySDR import * #SOAPY_SDR_ constants\n",
    "import numpy #use numpy for buffers\n",
    "\n",
    "args = dict(driver=\"sdrplay\")\n",
    "sdr = SoapySDR.Device(args)"
   ]
  },
  {
   "cell_type": "code",
   "execution_count": 2,
   "metadata": {},
   "outputs": [],
   "source": [
    "sdr.setSampleRate(SOAPY_SDR_RX, 0, 1e6)\n",
    "sdr.setFrequency(SOAPY_SDR_RX, 0, 92.1e6)"
   ]
  },
  {
   "cell_type": "code",
   "execution_count": 3,
   "metadata": {},
   "outputs": [
    {
     "data": {
      "text/plain": [
       "0"
      ]
     },
     "execution_count": 3,
     "metadata": {},
     "output_type": "execute_result"
    }
   ],
   "source": [
    "rxStream = sdr.setupStream(SOAPY_SDR_RX, SOAPY_SDR_CF32)\n",
    "sdr.activateStream(rxStream) #start streaming"
   ]
  },
  {
   "cell_type": "code",
   "execution_count": 14,
   "metadata": {},
   "outputs": [],
   "source": [
    "buff = numpy.array([0]*1024*31, numpy.complex64)"
   ]
  },
  {
   "cell_type": "code",
   "execution_count": 15,
   "metadata": {},
   "outputs": [
    {
     "name": "stdout",
     "output_type": "stream",
     "text": [
      "-4\n",
      "0\n",
      "0\n",
      "31744\n",
      "32\n",
      "0\n",
      "512\n",
      "0\n",
      "0\n",
      "31744\n",
      "32\n",
      "0\n",
      "512\n",
      "0\n",
      "0\n",
      "31744\n",
      "32\n",
      "0\n",
      "512\n",
      "0\n",
      "0\n",
      "31744\n",
      "32\n",
      "0\n",
      "512\n",
      "0\n",
      "0\n",
      "31744\n",
      "32\n",
      "0\n"
     ]
    }
   ],
   "source": [
    "for i in range(10):\n",
    "    sr = sdr.readStream(rxStream, [buff], len(buff))\n",
    "    print(sr.ret) #num samples or error code\n",
    "    print(sr.flags) #flags set by receive operation\n",
    "    print(sr.timeNs) #timestamp for receive buffer\n",
    "\n",
    "#shutdown the stream\n"
   ]
  },
  {
   "cell_type": "code",
   "execution_count": null,
   "metadata": {},
   "outputs": [],
   "source": [
    "sdr.deactivateStream(rxStream) #stop streaming\n",
    "sdr.closeStream(rxStream)"
   ]
  },
  {
   "cell_type": "code",
   "execution_count": 8,
   "metadata": {},
   "outputs": [
    {
     "name": "stdout",
     "output_type": "stream",
     "text": [
      "[0.00909424+0.01306152j 0.01101685+0.01168823j 0.01287842+0.01043701j ...\n",
      " 0.        +0.j         0.        +0.j         0.        +0.j        ]\n"
     ]
    }
   ],
   "source": [
    "print(buff)"
   ]
  },
  {
   "cell_type": "code",
   "execution_count": null,
   "metadata": {},
   "outputs": [],
   "source": [
    "import numpy as np\n",
    "import matplotlib.pyplot as plt\n",
    "from matplotlib.mlab import psd\n",
    "import control\n",
    "\n",
    "plt.psd(buff, NFFT=1024, Fs=1e6/1e6, Fc=92.1e6/1e6, color='crimson')\n"
   ]
  }
 ],
 "metadata": {
  "kernelspec": {
   "display_name": "Python 3",
   "language": "python",
   "name": "python3"
  },
  "language_info": {
   "codemirror_mode": {
    "name": "ipython",
    "version": 3
   },
   "file_extension": ".py",
   "mimetype": "text/x-python",
   "name": "python",
   "nbconvert_exporter": "python",
   "pygments_lexer": "ipython3",
   "version": "3.7.6"
  }
 },
 "nbformat": 4,
 "nbformat_minor": 4
}
