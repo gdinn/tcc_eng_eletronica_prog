{
 "cells": [
  {
   "cell_type": "markdown",
   "metadata": {},
   "source": [
    "# Ensaio de teste SDRPLAY\n",
    "Teste do SDRPlay para verificar condições de operação quando comparado ao RTL-SDR"
   ]
  },
  {
   "cell_type": "markdown",
   "metadata": {},
   "source": [
    "## Imports"
   ]
  },
  {
   "cell_type": "code",
   "execution_count": 1,
   "metadata": {},
   "outputs": [],
   "source": [
    "from pylab import *\n",
    "\n",
    "import numpy as np\n",
    "import matplotlib.pyplot as plt\n",
    "from matplotlib.mlab import psd\n",
    "import control\n",
    "from time import sleep\n",
    "import math\n",
    "\n",
    "\n",
    "import SoapySDR as sp\n"
   ]
  },
  {
   "cell_type": "markdown",
   "metadata": {},
   "source": [
    "## Parâmetros de ensaio"
   ]
  },
  {
   "cell_type": "code",
   "execution_count": 2,
   "metadata": {},
   "outputs": [],
   "source": [
    "sample_rate = 1e6\n",
    "center_freq = 92.1e6"
   ]
  },
  {
   "cell_type": "markdown",
   "metadata": {},
   "source": [
    "## Funções estruturantes"
   ]
  },
  {
   "cell_type": "code",
   "execution_count": 3,
   "metadata": {},
   "outputs": [],
   "source": [
    "def fazer_aquisicao(sample_rate, center_freq, gain, nsamples):\n",
    "    if sample_rate < 1e6:\n",
    "        print(\"sample_rate precisa estar entre 1e6 e 2e6\")\n",
    "        return\n",
    "    if gain < 1:\n",
    "        print(\"gain precisa ser maior igual a 1\")\n",
    "   \n",
    "    args = dict(driver=\"sdrplay\")\n",
    "    sdr = sp.Device(args)\n",
    "    rx_chan = 0\n",
    "    gain = 42 - gain\n",
    "    sdr.setSampleRate(sp.SOAPY_SDR_RX, rx_chan, sample_rate)\n",
    "    sdr.setFrequency(sp.SOAPY_SDR_RX, rx_chan, center_freq)\n",
    "    sdr.setGainMode(sp.SOAPY_SDR_RX, rx_chan, False) # turn off AGC\n",
    "    sdr.setGain(sp.SOAPY_SDR_RX, rx_chan, gain)\n",
    "   \n",
    "    max_nsamples = 32256\n",
    "    rodadas = 1\n",
    "    if nsamples > max_nsamples:\n",
    "        rodadas = math.ceil(nsamples/max_nsamples)\n",
    "\n",
    "    print(\"[INFO]Para\", nsamples, \"serão feitas\", rodadas, \"medidas\")\n",
    "    rxStream = sdr.setupStream(sp.SOAPY_SDR_RX, sp.SOAPY_SDR_CF32)\n",
    "    print(\"faxa de ganho\")\n",
    "    print(sdr.getGainRange(sp.SOAPY_SDR_RX, rx_chan))\n",
    "    \n",
    "    print(\"[DONE]setup\")\n",
    "    \n",
    "    sdr.activateStream(rxStream) #start streaming\n",
    "    print(\"[DONE]activateStream\")\n",
    "    \n",
    "    _samples = np.array([0]*max_nsamples, np.complex64)\n",
    "    samples = np.array([], np.complex64)\n",
    "    mperdidas = 0;\n",
    "    for j in range(rodadas):        \n",
    "        for i in range(20):\n",
    "            sr = sdr.readStream(rxStream, [_samples], len(_samples))\n",
    "            if sr.ret > 0:                \n",
    "                break\n",
    "            if i == 19:\n",
    "                mperdidas = mperdidas + 1\n",
    "                print(\"[ERROR]readStream\", sr.ret)\n",
    "                print(\"[INFO]\", mperdidas, \"/\", rodadas, \"medidas perdidas\")\n",
    "                break\n",
    "        samples = np.concatenate([samples, _samples])\n",
    "    sdr.deactivateStream(rxStream) #stop streaming\n",
    "    sdr.closeStream(rxStream)\n",
    "    sleep(1)\n",
    "    print(\"[DONE]fechou\")\n",
    "    return samples\n",
    "\n",
    "def fazer_grafico(samples, sample_rate, center_freq):\n",
    "    if sample_rate < 1e6:\n",
    "        print(\"sample_rate precisa ser maior igual a 1e6\")\n",
    "        return\n",
    "    if center_freq < 1e6:\n",
    "        print(\"center_freq precisa ser maior igual a 1e6\")\n",
    "        return    \n",
    "    NFFT = 1024\n",
    "    plt.figure()\n",
    "    plt.psd(samples, NFFT=NFFT, Fs=sample_rate/1e6, Fc=center_freq/1e6, color='crimson')    \n",
    "    \n",
    "    xlabel('Frequency (MHz)')\n",
    "    ylabel('Relative power (dB)') \n",
    "    \n",
    "    plt.savefig(\"psd.png\")\n",
    "    \n",
    "def obter_magnitude(freq, samples, sample_rate, center_freq):\n",
    "    if sample_rate < 1e6:\n",
    "        print(\"sample_rate precisa ser maior igual a 1e6\")\n",
    "        return\n",
    "    if center_freq < 1e6:\n",
    "        print(\"center_freq precisa ser maior igual a 1e6\")\n",
    "        return\n",
    "    sample_rate = sample_rate/1e6\n",
    "    center_freq = center_freq/1e6\n",
    "    freq = freq/1e6\n",
    "    NFFT = 1024\n",
    "    axes = psd(samples, NFFT=NFFT, Fs=sample_rate)\n",
    "    y = 10*np.log10(axes[0])\n",
    "    x = axes[1] + center_freq\n",
    "    i = find_nearest(x, freq)    \n",
    "    return x[i],y[i]\n",
    "\n",
    "def find_nearest(array, value):\n",
    "    #https://stackoverflow.com/questions/2566412/find-nearest-value-in-numpy-array\n",
    "    array = np.asarray(array)\n",
    "    idx = (np.abs(array - value)).argmin()\n",
    "    return idx\n",
    "\n",
    "def obter_magnitude_sem_ganho(mag, ganho):\n",
    "    amp = control.db2mag(mag)/ganho\n",
    "    return 20*np.log10(amp)\n"
   ]
  },
  {
   "cell_type": "markdown",
   "metadata": {},
   "source": [
    "## Medição G=1; "
   ]
  },
  {
   "cell_type": "code",
   "execution_count": 15,
   "metadata": {},
   "outputs": [
    {
     "name": "stdout",
     "output_type": "stream",
     "text": [
      "[INFO]Para 524288 serão feitas 17 medidas\n",
      "faxa de ganho\n",
      "0, 42\n",
      "[DONE]setup\n",
      "[DONE]activateStream\n",
      "[DONE]fechou\n",
      "Na frequência 92.1 a magnitude é de -43.44452168330981 dB\n"
     ]
    },
    {
     "data": {
      "image/png": "[encoded data removed]",
      "text/plain": [
       "<Figure size 432x288 with 1 Axes>"
      ]
     },
     "metadata": {
      "needs_background": "light"
     },
     "output_type": "display_data"
    }
   ],
   "source": [
    "samples = fazer_aquisicao(\n",
    "    sample_rate = sample_rate,\n",
    "    center_freq = center_freq,\n",
    "    gain = 1,\n",
    "    nsamples = 1024*512\n",
    ")\n",
    "fazer_grafico(\n",
    "    samples = samples,\n",
    "    sample_rate = sample_rate,\n",
    "    center_freq = center_freq\n",
    ")\n",
    "freq, mag = obter_magnitude(\n",
    "    freq = center_freq,\n",
    "    samples = samples,\n",
    "    sample_rate = sample_rate,\n",
    "    center_freq = center_freq\n",
    ")\n",
    "print(\"Na frequência\", freq, \"a magnitude é de\", mag, \"dB\")"
   ]
  },
  {
   "cell_type": "markdown",
   "metadata": {},
   "source": [
    "## Medição G=7; "
   ]
  },
  {
   "cell_type": "code",
   "execution_count": 16,
   "metadata": {},
   "outputs": [
    {
     "name": "stdout",
     "output_type": "stream",
     "text": [
      "[INFO]Para 524288 serão feitas 17 medidas\n",
      "faxa de ganho\n",
      "0, 42\n",
      "[DONE]setup\n",
      "[DONE]activateStream\n",
      "[DONE]fechou\n",
      "Na frequência 92.1 a magnitude é de -20.906580554523195 dB\n"
     ]
    },
    {
     "data": {
      "image/png": "[encoded data removed]",
      "text/plain": [
       "<Figure size 432x288 with 1 Axes>"
      ]
     },
     "metadata": {
      "needs_background": "light"
     },
     "output_type": "display_data"
    }
   ],
   "source": [
    "samples = fazer_aquisicao(\n",
    "    sample_rate = sample_rate,\n",
    "    center_freq = center_freq,\n",
    "    gain = 7,\n",
    "    nsamples = 1024*512\n",
    ")\n",
    "fazer_grafico(\n",
    "    samples = samples,\n",
    "    sample_rate = sample_rate,\n",
    "    center_freq = center_freq\n",
    ")\n",
    "freq, mag = obter_magnitude(\n",
    "    freq = center_freq,\n",
    "    samples = samples,\n",
    "    sample_rate = sample_rate,\n",
    "    center_freq = center_freq\n",
    ")\n",
    "print(\"Na frequência\", freq, \"a magnitude é de\", mag, \"dB\")"
   ]
  },
  {
   "cell_type": "markdown",
   "metadata": {},
   "source": [
    "# Conclusão comparativo\n",
    "- Ambos SDR apresentam medidas que são compativeis com a realidade. Existe de fato uma estação de rádio cuja portadora está em 92.1MHz.\n",
    "- A magnitude da potência na frequência central do RTL-SDR é maior que a obtida com o SDRPlay, ambos com ganho=1, ambas medições utilizando a mesma antena e sendo adquiridas ao mesmo tempo.\n",
    "- Realizando a mesma medição porém ganho=7 o cenário se inverte. A magnitude de potência na frequência central do RTL-SDR é menor que a obtida com o SDRPlay.\n",
    "- O SDRPlay não precisa de tratamento nas medidas obtidas, ao contrário do RTL-SDR"
   ]
  }
 ],
 "metadata": {
  "kernelspec": {
   "display_name": "Python 3",
   "language": "python",
   "name": "python3"
  },
  "language_info": {
   "codemirror_mode": {
    "name": "ipython",
    "version": 3
   },
   "file_extension": ".py",
   "mimetype": "text/x-python",
   "name": "python",
   "nbconvert_exporter": "python",
   "pygments_lexer": "ipython3",
   "version": "3.7.6"
  }
 },
 "nbformat": 4,
 "nbformat_minor": 5
}
